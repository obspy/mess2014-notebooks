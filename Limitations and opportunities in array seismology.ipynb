{
 "metadata": {
  "name": ""
 },
 "nbformat": 3,
 "nbformat_minor": 0,
 "worksheets": [
  {
   "cells": [
    {
     "cell_type": "code",
     "collapsed": false,
     "input": [
      "from mess2014 import vespagram, array_analysis_helper, show_distance_plot"
     ],
     "language": "python",
     "metadata": {},
     "outputs": []
    },
    {
     "cell_type": "markdown",
     "metadata": {},
     "source": [
      "## Problems, Limitations, Opportunities \n",
      "\n",
      "### 1) Perform vespa with theo baz and corrected (observed) baz \n",
      "\n",
      "For this part we are using the event 5 May 2003 Philippine event recorded at KNET (Kyrgyz network). This example should show that seismic arrivals can in some cases disappear, especially for strong topography such as in KNET where the observed backazimuth can differ up to 10 degrees from the theoretical backazimuth.\n",
      "\n",
      "**a)** Choose a time window with absolute time 05-MAY-2003_23:14:35 to 23:15:35.\n",
      "\n",
      "Produce a vespagram (4th root) with the KNET data (only Z components from KN array) filtered with a bandpass filter of 1-10s or just broadband data. Use the theoretical backazimuth (114 degrees). Try different filters and slowness ranges(do not excees slowness of 12 s/deg) to get the best result. A P wave can be seen and some later phases (sP for example) but no pP wave.\n"
     ]
    },
    {
     "cell_type": "code",
     "collapsed": false,
     "input": [
      "vespagram?"
     ],
     "language": "python",
     "metadata": {},
     "outputs": []
    },
    {
     "cell_type": "code",
     "collapsed": false,
     "input": [
      "from obspy import read, UTCDateTime, readEvents, read_inventory\n",
      "st =read(\"/home/mess/Desktop/data/04_KNET/04.mseed\").select(network=\"kn\")\n",
      "t1 = UTCDateTime(2003, 5, 5, 23, 14, 35)\n",
      "t2 = UTCDateTime(2003, 5, 5, 23, 15, 35)\n",
      "vertical_components = st.select(component=\"Z\")\n",
      "vertical_components.trim(t1, t2)\n",
      "cat = readEvents(\"/home/mess/Desktop/data/04_KNET/04.qml\")\n",
      "ev = cat[0]\n",
      "inv = read_inventory(\"/home/mess/Desktop/data/04_KNET/04.xml\", format='stationxml') \n",
      "from mess2014 import vespagram\n"
     ],
     "language": "python",
     "metadata": {},
     "outputs": []
    },
    {
     "cell_type": "markdown",
     "metadata": {},
     "source": [
      "**b)** Use the P window (absolute time 05-MAY-2003_23:14:55 to 23:15:35) to produce a sloaz analysis and determine the observed backazimuth. An fk-analysis is also possible."
     ]
    },
    {
     "cell_type": "code",
     "collapsed": false,
     "input": [
      "array_analysis_helper?"
     ],
     "language": "python",
     "metadata": {},
     "outputs": []
    },
    {
     "cell_type": "code",
     "collapsed": false,
     "input": [
      "from obspy import read, UTCDateTime, readEvents, read_inventory\n",
      "st = read(\"/home/mess/Desktop/data/04_KNET/04.mseed\" ).select(network=\"kn\")\n",
      "vertical_components = st.select(component=\"Z\")\n",
      "t1 = UTCDateTime(2003, 5, 5, 23, 14, 55)\n",
      "t2 = UTCDateTime(2003, 5, 5, 23, 15, 35)\n",
      "vertical_components.trim(t1, t2) \n",
      "from mess2014 import array_analysis_helper\n"
     ],
     "language": "python",
     "metadata": {},
     "outputs": []
    },
    {
     "cell_type": "markdown",
     "metadata": {},
     "source": [
      "**c)** In a third step produce a vespa 4th root with observed baz (measure doing sloaz or use the azimuth 104 degrees, or correct for mislocation vectors). use the time range as in the first vespagram."
     ]
    },
    {
     "cell_type": "code",
     "collapsed": false,
     "input": [
      "from obspy import read, UTCDateTime, readEvents, read_inventory\n",
      "st =read(\"/home/mess/Desktop/data/04_KNET/04.mseed\").select(network=\"kn\")\n",
      "t1 = UTCDateTime(2003, 5, 5, 23, 14, 35)\n",
      "t2 = UTCDateTime(2003, 5, 5, 23, 15, 35)\n",
      "vertical_components = st.select(component=\"Z\")\n",
      "vertical_components.trim(t1, t2)\n",
      "cat = readEvents(\"/home/mess/Desktop/data/04_KNET/04.qml\")  \n",
      "ev = cat[0]\n",
      "inv = read_inventory(\"/home/mess/Desktop/data/04_KNET/04.xml\", format='STATIONXML')\n",
      "\n",
      "\n",
      "from mess2014 import vespagram\n"
     ],
     "language": "python",
     "metadata": {},
     "outputs": []
    },
    {
     "cell_type": "markdown",
     "metadata": {},
     "source": [
      "**NOTE:** A pP arrival appears between P and sP, which was absent before"
     ]
    },
    {
     "cell_type": "markdown",
     "metadata": {},
     "source": [
      "### 2) Example of scattering \n",
      "\n",
      "For this event we are looking for scattering as precursors to the phase PKP. \n",
      "\n",
      "**a)** Read in event 4 Oct 2002   (event 5), an event from Tonga recorded at the EAGLE array in Ethiopia. Delete station WOLE (trace 29) since this had some recording problems.\n",
      "\n",
      "Filter the event with a filter from 1-10s and align them to the correct start time (they are cut each trace 600 s before first P). Then plot the traces distance dependent and cut the traces to \n",
      "a time between 750 and 810 s (or absolute 4-oct-02_19:23:43 to 19:24:43)\n",
      "When comparing to scattering observations (e.g. Manchinelli et al., 2013, Heldin, Shearer and Earle, 1997 etc, there does not seem to be any scattering in this dataset. Marking the arrival time of PKPdf puts this at the first arriving wave.\n"
     ]
    },
    {
     "cell_type": "code",
     "collapsed": false,
     "input": [
      "from obspy import read, UTCDateTime, readEvents, read_inventory\n",
      "st =read(\"/home/mess/Desktop/data/05_EAGLE/05.mseed\")\n",
      "for tr in st.select(station=\"WOLE\"):\n",
      "    st.remove(tr)\n",
      "\n",
      "t1 = UTCDateTime(2002, 10, 4, 19, 23, 43)\n",
      "t2 = UTCDateTime(2002, 10, 4, 19, 24, 43)\n",
      "vertical_components = st.select(component=\"Z\")\n",
      "vertical_components.trim(t1, t2)\n",
      "cat = readEvents(\"/home/mess/Desktop/data/05_EAGLE/05.qml\")\n",
      "ev = cat[0]\n",
      "inv = read_inventory(\"/home/mess/Desktop/data/05_EAGLE/05.xml\", format='STATIONXML')\n"
     ],
     "language": "python",
     "metadata": {},
     "outputs": []
    },
    {
     "cell_type": "markdown",
     "metadata": {},
     "source": [
      "**b)** Produce a 4th root vespagram for the time range as above. The first arrival has a slowness of around 3.8s/deg. The theoretical slowness of PKPdf is around 1.9 for this distance range. The first arrival either has a large slowness deviation or is not PKPdf. A second arrival can be seen with a slowness of 1.9s/deg which is PKPdf. "
     ]
    },
    {
     "cell_type": "code",
     "collapsed": false,
     "input": [
      "from mess2014 import vespagram\n"
     ],
     "language": "python",
     "metadata": {},
     "outputs": []
    },
    {
     "cell_type": "markdown",
     "metadata": {},
     "source": [
      "The first arrival is PKPbdiff, the diffracted wave from the b-caustic point of PKP."
     ]
    },
    {
     "cell_type": "markdown",
     "metadata": {},
     "source": [
      "### 3) Perform search for out-of plane signals with sloaz analysis.\n",
      "\n",
      "Use the Morocco Data (event 14 Aug 12,  #3 in Table 1) and filter the data with a bandpass filter of 3-25s. \n",
      "Perform a sloaz analysis for 10 s windows for the following time windows:\n",
      "\n",
      "1) Absolute time (14-AUG-2012_3:12 to 3:12:10)\n",
      "\n",
      "2) Absolute time (14-Aug-2012_3:13:20 to 3:13:30)\n",
      "\n",
      "3) Absolute time (14-AUG-2012_3:13:50 to 3:14:05)\n",
      " \n",
      "Plot the results: the P-wave arrives with the theoretical azimuth, search for later phases with different azimuths in the following windows."
     ]
    },
    {
     "cell_type": "code",
     "collapsed": false,
     "input": [
      "from obspy import read, UTCDateTime, readEvents, read_inventory\n",
      "st =read(\"/home/mess/Desktop/data/02_MM/02.mseed\")\n",
      "t1 = UTCDateTime(2012, 8, 14, 3, 12, 0)\n",
      "t2 = UTCDateTime(2012, 8, 14, 3, 12, 10)\n",
      "vertical_components = st.select(component=\"Z\")\n",
      "vertical_components.trim(t1, t2)\n",
      "cat = readEvents(\"/home/mess/Desktop/data/02_MM/02.qml\")\n",
      "ev = cat[0]\n",
      "inv = read_inventory(\"/home/mess/Desktop/data/02_MM/02.xml\", format='STATIONXML')\n",
      "from mess2014 import array_analysis_helper\n"
     ],
     "language": "python",
     "metadata": {},
     "outputs": []
    },
    {
     "cell_type": "code",
     "collapsed": false,
     "input": [],
     "language": "python",
     "metadata": {},
     "outputs": []
    },
    {
     "cell_type": "code",
     "collapsed": false,
     "input": [],
     "language": "python",
     "metadata": {},
     "outputs": []
    }
   ],
   "metadata": {}
  }
 ]
}