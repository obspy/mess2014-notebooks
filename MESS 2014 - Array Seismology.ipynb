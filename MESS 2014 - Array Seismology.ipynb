{
 "metadata": {
  "name": ""
 },
 "nbformat": 3,
 "nbformat_minor": 0,
 "worksheets": [
  {
   "cells": [
    {
     "cell_type": "code",
     "collapsed": false,
     "input": [
      "from mess2014 import show_distance_plot, array_analysis_helper, align_phases, array_transfer_helper, vespagram"
     ],
     "language": "python",
     "metadata": {},
     "outputs": []
    },
    {
     "cell_type": "markdown",
     "metadata": {
      "slideshow": {
       "slide_type": "slide"
      }
     },
     "source": [
      "# Introduction to Array Seismology Methods\n",
      "\n",
      " #### 1. Seismograms, move-out\n",
      " #### 2. Vespagrams, linear and 4th root\n",
      " #### 3. Phase Weighted Stack (PWS)\n",
      " #### 4. Array Response Function\n",
      " #### 5. Slowness-Backazimuth plots\n",
      " #### 6. Frequency-Wavenumaber analysis"
     ]
    },
    {
     "cell_type": "markdown",
     "metadata": {},
     "source": [
      "This practical introduces the most common array processing techniques used for array seismology studies. \n",
      "We will introduce standard techniques and use them on selected examples from an event recorded at the German Regional Seismic Network (GRSN) and a recently deployed array in Morocco (Muenster Morocco array, MM) and teleseismic events.\n",
      "\n",
      "\n",
      "           \n",
      "\n"
     ]
    },
    {
     "cell_type": "markdown",
     "metadata": {},
     "source": [
      "   #### Information for each event\n",
      "<table>\n",
      "       <tr>\n",
      "        <th>#</th> <th>date</th> <th>time</th> <th>lat</th> <th>lon</th> <th>depth(km)</th> <th>magn</th> <th>array</th> <th>phase</th>\n",
      "        </tr>\n",
      "        <tr>\n",
      "            <td>1</td> <td>17 DEC 1991</td> <td>06:38:17</td> <td>47.429</td> <td>151.484</td> <td>150</td> <td>5.5</td> <td>GRF,GRSN</td>     <td>P, PcP</td>\n",
      "        </tr>\n",
      "        <tr>\n",
      "            <td>2</td> <td>14 AUG 2012</td> <td>02:59:38</td> <td>49.80</td> <td>145.064</td> <td>583</td> <td>7.7</td> <td>MM</td>     <td>P, PP</td>\n",
      "        </tr>\n",
      "        <tr>\n",
      "            <td>3</td> <td>14 AUG 2012</td> <td>02:59:38</td> <td>49.80</td> <td>145.064</td> <td>583</td> <td>7.7</td> <td>YKA</td>     <td>diff, PP</td>\n",
      "        </tr>\n",
      "        <tr>\n",
      "            <td>4</td> <td>05 MAY 2003</td> <td>23:04:45</td> <td>3.645</td> <td>128.010</td> <td>61</td> <td>6.2</td> <td>KNET</td>     <td>mislo, pP</td>\n",
      "        </tr>\n",
      "        <tr>\n",
      "            <td>5</td> <td>04 OCT 2002</td> <td>19:05:50</td> <td>-20.96</td> <td>-178.86</td> <td>630</td> <td>6.3</td> <td>EAGLE</td>     <td>scattering</td>\n",
      "           </tr>\n",
      "        <tr>\n",
      "        \n",
      "</table>        \n",
      "Please keep in mind that the **data** are **accesible** at **/home/mess/Desktop/data**.\n",
      "\n",
      "For example for the Morocco event: /home/mess/Desktop/data/02_MM/02.mseed"
     ]
    },
    {
     "cell_type": "markdown",
     "metadata": {},
     "source": [
      "### **Getting Genral information of each event and array\n",
      "\n",
      "**a)** Plot the morocco event (14 AUG 2012) on a world map (using QuakeML file)\n"
     ]
    },
    {
     "cell_type": "code",
     "collapsed": false,
     "input": [
      "import obspy\n",
      "\n",
      "# Event information is stored in the QuakeML file.\n",
      "cat = obspy.readEvents(\"/home/mess/Desktop/data/02_MM/02.qml\")\n",
      "print cat\n",
      "cat.plot()"
     ],
     "language": "python",
     "metadata": {},
     "outputs": []
    },
    {
     "cell_type": "markdown",
     "metadata": {},
     "source": [
      "**b)** Print the stations informations of MM array (using stationXML file)"
     ]
    },
    {
     "cell_type": "code",
     "collapsed": false,
     "input": [
      "# Station information is stored in the StationXML file.\n",
      "inv = obspy.read_inventory(\"/home/mess/Desktop/data/02_MM/02.xml\", format=\"stationxml\")\n",
      "print inv"
     ],
     "language": "python",
     "metadata": {},
     "outputs": []
    },
    {
     "cell_type": "markdown",
     "metadata": {},
     "source": [
      "### 1) Seismograms and Move-out of different waves.\n",
      "\n",
      "Read the Morocco data (event 2). The data have been cut to a start time of 14th August 2012 2:30 for 5400 s\n",
      "\n",
      "In this event we are concentrating on the time range between the PcP wave and the PP wave.\n",
      "\n",
      "**a)** Display the data as a normal seismogram section (all data, z-component only). \n",
      "\n",
      "Use st.select to select Z-components.\n"
     ]
    },
    {
     "cell_type": "code",
     "collapsed": false,
     "input": [
      "st.select?"
     ],
     "language": "python",
     "metadata": {},
     "outputs": []
    },
    {
     "cell_type": "code",
     "collapsed": false,
     "input": [
      "import obspy\n",
      "\n",
      "# The first step is to read in the data.\n",
      "st = obspy.read(\"/home/mess/Desktop/data/02_MM/02.mseed\")\n",
      "vertical_components = st.select(component=\"Z\")\n"
     ],
     "language": "python",
     "metadata": {},
     "outputs": []
    },
    {
     "cell_type": "markdown",
     "metadata": {},
     "source": [
      "**b)** Often a distance dependent plot shows the different move-out of seismic arrivals and gives an idea of the slowness that could be expected. Produce a distance dependent plot of the data, use the time of 3:11:00 to 3:18:00 for the Morocco event (event 2) (if possible with phases marked - note P and PcP arrive at almost the same time)\n",
      "\n",
      "use show_distance_plot\n",
      "(with catalog and inventory from above)."
     ]
    },
    {
     "cell_type": "code",
     "collapsed": false,
     "input": [
      "show_distance_plot?"
     ],
     "language": "python",
     "metadata": {},
     "outputs": []
    },
    {
     "cell_type": "code",
     "collapsed": false,
     "input": [],
     "language": "python",
     "metadata": {},
     "outputs": []
    },
    {
     "cell_type": "markdown",
     "metadata": {},
     "source": [
      "**c)** As it is difficult to see different move-outs if the data are not aligned on a single phase, it is often useful to align. Align the data on the first arrival (P) and the different  move-out for each of the phases becomes visible. \n",
      "\n",
      "Use align_phases and asign them to a stream st (st=align_phases...), \n",
      "take only the z-component and catalog and inventory from above)\n",
      "\n",
      "plot traces again as distance dependent plot (show_distance_plot)"
     ]
    },
    {
     "cell_type": "code",
     "collapsed": false,
     "input": [
      "align_phases?"
     ],
     "language": "python",
     "metadata": {},
     "outputs": []
    },
    {
     "cell_type": "code",
     "collapsed": false,
     "input": [],
     "language": "python",
     "metadata": {},
     "outputs": []
    },
    {
     "cell_type": "markdown",
     "metadata": {},
     "source": [
      "**d)** To see the move-out difference in more detail zoom in to the PP wave. Use 900 to 1100 s after origin time."
     ]
    },
    {
     "cell_type": "code",
     "collapsed": false,
     "input": [
      "origin_time = cat[0].origins[0].time\n",
      "\n"
     ],
     "language": "python",
     "metadata": {},
     "outputs": []
    },
    {
     "cell_type": "markdown",
     "metadata": {},
     "source": [
      "**e)** Filter events with different filters, best suited is bandpass filter 1-10s (teleseismic P-waves). Align the P wave and display a time window including the P and PP wave. Use times from 740 to 1150 s after origin.\n"
     ]
    },
    {
     "cell_type": "code",
     "collapsed": false,
     "input": [],
     "language": "python",
     "metadata": {},
     "outputs": []
    },
    {
     "cell_type": "markdown",
     "metadata": {},
     "source": [
      " - For the **first event**  in the table above (17 DEC1991) we are concentrating on the P and PcP wave:"
     ]
    },
    {
     "cell_type": "markdown",
     "metadata": {},
     "source": [
      "The time range here is 17-Dec-91_6:49:30 to 6:50:30.\n",
      "\n",
      "Plot the event on a world map.\n",
      "\n"
     ]
    },
    {
     "cell_type": "code",
     "collapsed": false,
     "input": [
      "stream_1 = obspy.read(\"/home/mess/Desktop/data/01_GRSN_GRF/01.mseed\")\n",
      "cat_1 = obspy.readEvents(\"/home/mess/Desktop/data/01_GRSN_GRF/01.qml\")\n",
      "inv_1 = obspy.read_inventory(\"/home/mess/Desktop/data/01_GRSN_GRF/01.xml\", format=\"stationxml\")\n",
      "\n",
      "cat_1.plot()"
     ],
     "language": "python",
     "metadata": {},
     "outputs": []
    },
    {
     "cell_type": "markdown",
     "metadata": {},
     "source": [
      "Plot the data in a distance dependent plot with the traces aligned on the P-wave.\n",
      "\n",
      "This event (17 Dec 1991) shows the P-arrival and a secondary arrival with large amplitude.\n",
      "The distance dependent plot with traces aligned on the P-arrival shows that the secondary arrival has a different move-out than the P-wave. It is perhaps useful to zoom in (6:49:30 to 6:50:30).\n",
      "Use cat_1 and inv_1 for catalog and inventory."
     ]
    },
    {
     "cell_type": "code",
     "collapsed": false,
     "input": [
      "\n"
     ],
     "language": "python",
     "metadata": {},
     "outputs": []
    },
    {
     "cell_type": "markdown",
     "metadata": {},
     "source": [
      "## Reminder: Calculating theoretical backazimuth and slowness\n",
      "\n",
      "From the delay times measured at each station with respect to the centre of the array, the slowness and backazimuth of a phase can be determined. The horizontal slowness $u_{hor}$ and backazimuth $\\Phi$ are calculated, assuming all receivers are sea level and a plane wave arrival, using the following formula (Schweitzer et al., 2002):\n",
      "\n",
      "$$ t_j = \\frac{d_j}{v_{app}} = \\frac{-x_j  \\sin \\Phi - y_j \\cos \\Phi}{v_{app}}$$\n",
      "\n",
      " \n",
      "\n",
      "$$ v_{app} = \\frac{-x_j  \\sin \\Phi - y_j \\cos \\Phi}{t_j} $$"
     ]
    },
    {
     "cell_type": "markdown",
     "metadata": {},
     "source": [
      "<img src=\"http://earth.uni-muenster.de/~msaki_01/figure1.png\">"
     ]
    },
    {
     "cell_type": "markdown",
     "metadata": {},
     "source": [
      "Beamforming could be used here but the process is lengthy and tedious and helps to enhance only the phase with a known backazimuth and slowness. Wrong backazimuths could also introduce misleading waveforms. It is important to note that the delay times could be influences by the subsurface and could provide erroneous stacks (more later).\n",
      "\n",
      "Skipping the beamforming we will proceed to vespagram analysis.\n"
     ]
    },
    {
     "cell_type": "markdown",
     "metadata": {},
     "source": [
      "### 3) Vespagram (velocity spectral analysis)\n",
      "#### 3a) Perform linear vespagram for theo baz\n",
      "To make the process easier, a vespagram (velocity spectral analysis) is produced. Here the traces are shifted and stacked for a theoretical backazimuth and a range of slowness-values (or vice versa). A linear stack will look very wiggly and the slowness resolution will not be very good. \n",
      "\n",
      "Still it is worth to try for the two events, for large aperture arrays and a large number of stations this may still work well. To perform waveform studies, a linear stack (vespagram) is imperative.\n",
      "\n",
      "Read in the Morocco data again:\n",
      "\n",
      "The azimuth of the centre of the array is used (17 deg). Try different slowness ranges  between 0 and 10 s/deg for the vespagram but do not exceed the slowness increment of 0.2 to 0.5. \n",
      "Time range from 20 sec before Pdiff to 50 s after PP (or absolute times 3:11:40 to 3:17:00)\n",
      "use the delay and sum (DLS) option and an nthroot of 1 (for the linear stack).\n",
      "You can try broadband data or different filters (e.g., 0.1 to 4 Hz) and zoom-values (e.g. 10). \n",
      "Use the plot_trace=True option wor wiggles.\n"
     ]
    },
    {
     "cell_type": "code",
     "collapsed": false,
     "input": [
      "vespagram?"
     ],
     "language": "python",
     "metadata": {},
     "outputs": []
    },
    {
     "cell_type": "code",
     "collapsed": false,
     "input": [
      "from obspy import read, UTCDateTime, readEvents, read_inventory\n",
      "st =read(\"/home/mess/Desktop/data/02_MM/02.mseed\")\n",
      "t1 = UTCDateTime(2012, 8, 14, 3, 11, 40)\n",
      "t2 = UTCDateTime(2012, 8, 14, 3, 17)\n",
      "vertical_components = st.select(component=\"Z\")\n",
      "vertical_components.trim(t1, t2)\n",
      "print vertical_components\n",
      "\n",
      "ev = readEvents(\"/home/mess/Desktop/data/02_MM/02.qml\")[0]\n",
      "inv = read_inventory(\"/home/mess/Desktop/data/02_MM/02.xml\")\n",
      "\n",
      "from mess2014 import vespagram\n"
     ],
     "language": "python",
     "metadata": {},
     "outputs": []
    },
    {
     "cell_type": "markdown",
     "metadata": {},
     "source": [
      "Make the vespagram in contour plot (plot_trace=false) - sometimes it looks better in a contour plot"
     ]
    },
    {
     "cell_type": "code",
     "collapsed": false,
     "input": [
      "from obspy import read, UTCDateTime, readEvents, read_inventory\n",
      "st =read(\"/home/mess/Desktop/data/02_MM/02.mseed\")\n",
      "t1 = UTCDateTime(2012, 8, 14, 3, 11, 40)\n",
      "t2 = UTCDateTime(2012, 8, 14, 3, 17)\n",
      "vertical_components = st.select(component=\"Z\")\n",
      "vertical_components.trim(t1, t2)\n",
      "print vertical_components\n",
      "\n",
      "ev = readEvents(\"/home/mess/Desktop/data/02_MM/02.qml\")[0]\n",
      "inv = read_inventory(\"/home/mess/Desktop/data/02_MM/02.xml\")\n",
      "\n",
      "from mess2014 import vespagram\n"
     ],
     "language": "python",
     "metadata": {},
     "outputs": []
    },
    {
     "cell_type": "markdown",
     "metadata": {},
     "source": [
      "#### 3b) Perform 4th root vespa for theo baz\n",
      "\n",
      "To have a better resolution for the arrivals in the vespagram, a 4th root stack should be produced. The waveforms are poorer, the slowness resolution is much better. Both events (event 1 and 2) show clear arrivals, P and PdP (the D\" reflection) in the first event can clearly be seen, P/PcP and PP can clearly be distinguished in the second example.\n",
      "\n",
      "The first exercise is for the event recorded at the Morocco stations (event2)\n",
      "\n",
      "Use the same parameters as for the linear vespagram but with a 4th root stacking option (you can try different nthroot values as well).\n",
      "Try different slowness ranges between 0 and 10 s/deg with increments of 0.2 s/deg. Try different filters. "
     ]
    },
    {
     "cell_type": "code",
     "collapsed": false,
     "input": [
      "from obspy import read, UTCDateTime, readEvents, read_inventory\n",
      "st =read(\"/home/mess/Desktop/data/02_MM/02.mseed\")\n",
      "t1 = UTCDateTime(2012, 8, 14, 3, 11, 40)\n",
      "t2 = UTCDateTime(2012, 8, 14, 3, 17)\n",
      "vertical_components = st.select(component=\"Z\")\n",
      "vertical_components.trim(t1, t2)\n",
      "print vertical_components\n",
      "\n",
      "ev = readEvents(\"/home/mess/Desktop/data/02_MM/02.qml\")[0]\n",
      "inv = read_inventory(\"/home/mess/Desktop/data/02_MM/02.xml\")\n",
      "\n",
      "from mess2014 import vespagram\n"
     ],
     "language": "python",
     "metadata": {},
     "outputs": []
    },
    {
     "cell_type": "markdown",
     "metadata": {},
     "source": [
      "### 4) Perform pws for the same event\n",
      "Phase weighted stacking produces a different kind of enhanced vespagram. To see the difference (or lack of?) PWS of the above events should be produced.\n",
      "In the vespagram routine use PWS as option. Again try different slowness ranges and filters to get the best result."
     ]
    },
    {
     "cell_type": "code",
     "collapsed": false,
     "input": [
      "from obspy import read, UTCDateTime, readEvents, read_inventory\n",
      "st =read(\"/home/mess/Desktop/data/02_MM/02.mseed\")\n",
      "t1 = UTCDateTime(2012, 8, 14, 3, 11, 40)\n",
      "t2 = UTCDateTime(2012, 8, 14, 3, 17)\n",
      "vertical_components = st.select(component=\"Z\")\n",
      "vertical_components.trim(t1, t2)\n",
      "print vertical_components\n",
      "\n",
      "ev = readEvents(\"/home/mess/Desktop/data/02_MM/02.qml\")[0]\n",
      "inv = read_inventory(\"/home/mess/Desktop/data/02_MM/02.xml\")\n",
      "\n",
      "from mess2014 import vespagram\n"
     ],
     "language": "python",
     "metadata": {},
     "outputs": []
    },
    {
     "cell_type": "markdown",
     "metadata": {},
     "source": [
      "For the **GRSN/GRF** array event, produce a 4th root vespagram and try different slowness values (between 0 and 10 s/deg, increment not exceeding 0.2s/deg), a backazimuth of the centre of the array (24deg) and a time around P and PcP (absolute time 17-dec-91_6:49:30 to 6:50:30). The P-wave is clearly visible, the second large arrival has a smaller slowness and two more arrivals are apparent, one is PcP (approximately 9.5 s after P and another arrivals with PcP slowness. "
     ]
    },
    {
     "cell_type": "code",
     "collapsed": false,
     "input": [
      "from obspy import read, UTCDateTime, readEvents, read_inventory\n",
      "st = read(\"/home/mess/Desktop/data/01_GRSN_GRF/01.mseed\")\n",
      "\n",
      "vertical_components = st.select(component=\"Z\")\n",
      "t1 = UTCDateTime(1991, 12, 17, 6, 49, 30)\n",
      "t2 = UTCDateTime(1991, 12, 17, 6, 50, 30)\n",
      "vertical_components.trim(t1, t2) \n",
      "\n",
      "cat = readEvents(\"/home/mess/Desktop/data/01_GRSN_GRF/01.qml\")\n",
      "ev = cat[0]\n",
      "inv = read_inventory(\"/home/mess/Desktop/data/01_GRSN_GRF/01.xml\", format='STATIONXML')\n",
      "\n",
      "from mess2014 import vespagram\n"
     ],
     "language": "python",
     "metadata": {},
     "outputs": []
    },
    {
     "cell_type": "markdown",
     "metadata": {},
     "source": [
      "### 5) Perform sloaz for the Morocco data with longer time window or moving time window\n",
      "\n",
      "If slowness and backazimuth of the data are not known (or true, i.e. measured, values should be determined) a sloaz analysis can be produced. Here chose a time window around the Pdiff arrival (or any other arrival that you like) and produce a sloaz analysis. The range of backazimuths depends on the theoretical backazimuth. \n",
      "\n",
      "For the Event recorded in Morocco the theoretical backazimuth is 17.3 degrees. The slowness range is determined by the theoretical slowness values of the phase we are interested in. For Pdiff to PP the range should be between 0 and 10 s/deg.\n",
      "\n",
      "The window that includes Pdiff and PP is between time 3:11:30 to 3:14:30.\n",
      "Produce slowness_backazimuth plot for two windows, one around Pdiff, one around PP (hint: import array_analysis_helper routine from mess2014)\n",
      "\n",
      "Don't plot the array response function here, use method \"FK\" and baz_plot=True. Also test different values for the slowness (slx, sly) to find the best fitting values."
     ]
    },
    {
     "cell_type": "code",
     "collapsed": false,
     "input": [
      "array_analysis_helper?"
     ],
     "language": "python",
     "metadata": {},
     "outputs": []
    },
    {
     "cell_type": "code",
     "collapsed": false,
     "input": [
      "from obspy import read, UTCDateTime, readEvents, read_inventory\n",
      "st = read(\"/home/mess/Desktop/data/02_MM/02.mseed\")\n",
      "\n",
      "vertical_components = st.select(component=\"Z\")\n",
      "t1 = UTCDateTime(2012, 8, 14, 3, 11, 30)\n",
      "t2 = UTCDateTime(2012, 8, 14, 3, 14, 30)\n",
      "vertical_components.trim(t1, t2) \n",
      "\n",
      "inv = read_inventory(\"/home/mess/Desktop/data/02_MM/02.xml\", format='STATIONXML')\n",
      "\n",
      "from mess2014 import array_analysis_helper\n"
     ],
     "language": "python",
     "metadata": {},
     "outputs": []
    },
    {
     "cell_type": "markdown",
     "metadata": {},
     "source": [
      "### 6) Display array response function in fk and sloaz display\n",
      "\n",
      "Here we introduce the concept of array response function. The array response function depends on the array configuration and signal frequency.  The best examples are usually Yellowknife data since the ARF is a cross (like the array) and can be recognised very well in the fk plot.\n",
      "\n",
      "Perform fk analysis for the Yellowknife array. Use default slowness values (you will need to use array_transfer_helper and array_analysis_helper (with baz_plot=False))."
     ]
    },
    {
     "cell_type": "code",
     "collapsed": false,
     "input": [
      "array_transfer_helper?"
     ],
     "language": "python",
     "metadata": {},
     "outputs": []
    },
    {
     "cell_type": "code",
     "collapsed": false,
     "input": [
      "from obspy import read, UTCDateTime, readEvents, read_inventory\n",
      "st = read(\"/home/mess/Desktop/data/03_YKA/03.mseed\")\n",
      "\n",
      "\n",
      "vertical_components = st.select(component=\"Z\")\n",
      "t1 = UTCDateTime(2012, 8, 14, 3, 6, 30)\n",
      "t2 = UTCDateTime(2012, 8, 14, 3, 9, 0)\n",
      "vertical_components.trim(t1, t2) \n",
      "\n",
      "inv = read_inventory(\"/home/mess/Desktop/data/03_YKA/03.xml\", format='STATIONXML')\n",
      "\n",
      "from mess2014 import array_transfer_helper, array_analysis_helper\n"
     ],
     "language": "python",
     "metadata": {},
     "outputs": []
    },
    {
     "cell_type": "markdown",
     "metadata": {},
     "source": [
      "### 7) FK analysis (Frequency-Wavenumber analysis)\n",
      "#### 7a) perform fk analysis for P-wave\n",
      "\n",
      "Use the GRF array data only, fk can usually only be done for small time windows to avoid interfering phases. For the GRF data, chose a time window of absolute time 17-dec-9_6:49:55 to 6:50:02).  Try different slowness ranges to find a fitting slowness range (from 0 to 12s/deg). "
     ]
    },
    {
     "cell_type": "code",
     "collapsed": false,
     "input": [
      "from obspy import read, UTCDateTime, readEvents, read_inventory\n",
      "st = read(\"/home/mess/Desktop/data/01_GRSN_GRF/01.mseed\")\n",
      "\n",
      "vertical_components = st.select(component=\"Z\")\n",
      "t1 = UTCDateTime(1991, 12, 17, 6, 49, 55)\n",
      "t2 = UTCDateTime(1991, 12, 17, 6, 50, 2)\n",
      "vertical_components.trim(t1, t2) \n",
      "\n",
      "cat = readEvents(\"/home/mess/Desktop/data/01_GRSN_GRF/01.qml\")\n",
      "ev = cat[0]\n",
      "inv = read_inventory(\"/home/mess/Desktop/data/01_GRSN_GRF/01.xml\", format='STATIONXML')\n",
      "\n",
      "from mess2014 import array_analysis_helper\n"
     ],
     "language": "python",
     "metadata": {},
     "outputs": []
    },
    {
     "cell_type": "markdown",
     "metadata": {},
     "source": [
      "#### 7b) perform fk-analysis for PdP wave\n",
      "\n",
      "To see the difference to the P-wave, the secondary arrival (it is PdP, the reflection off the D\" discontinuity) can be analysed with the fk-analysis: chose a time window from 17-dec-9_6:50:01 to 6:50:06. The slowness range should be as before (in the range of 0-12 s/deg). The slowness values for PdP are smaller (while the backazimuth is very similar to the P wave) and therefore cannot be a depth phase or Moho multiple. If projecting the PdP wave back with the measured slowness, it turns out to be reflected off the D\" discontinuity.\n",
      "\n"
     ]
    },
    {
     "cell_type": "code",
     "collapsed": false,
     "input": [
      "from obspy import read, UTCDateTime, readEvents, read_inventory\n"
     ],
     "language": "python",
     "metadata": {},
     "outputs": []
    },
    {
     "cell_type": "markdown",
     "metadata": {},
     "source": [
      "You can try different times windows as well and see whether you can see PcP as well!"
     ]
    },
    {
     "cell_type": "code",
     "collapsed": false,
     "input": [],
     "language": "python",
     "metadata": {},
     "outputs": []
    }
   ],
   "metadata": {}
  }
 ]
}